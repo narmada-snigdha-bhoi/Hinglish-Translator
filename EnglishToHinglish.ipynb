{
  "nbformat": 4,
  "nbformat_minor": 0,
  "metadata": {
    "colab": {
      "provenance": [],
      "authorship_tag": "ABX9TyN4TA4gvd1bVSk0GdbWUUjV",
      "include_colab_link": true
    },
    "kernelspec": {
      "name": "python3",
      "display_name": "Python 3"
    },
    "language_info": {
      "name": "python"
    }
  },
  "cells": [
    {
      "cell_type": "markdown",
      "metadata": {
        "id": "view-in-github",
        "colab_type": "text"
      },
      "source": [
        "<a href=\"https://colab.research.google.com/github/narmada-snigdha-bhoi/Hinglish-Translator/blob/main/EnglishToHinglish.ipynb\" target=\"_parent\"><img src=\"https://colab.research.google.com/assets/colab-badge.svg\" alt=\"Open In Colab\"/></a>"
      ]
    },
    {
      "cell_type": "code",
      "source": [
        "import spacy\n",
        "from googletrans import Translator"
      ],
      "metadata": {
        "id": "Ob6vnuP8FcTF"
      },
      "execution_count": 1,
      "outputs": []
    },
    {
      "cell_type": "code",
      "source": [
        "nlp = spacy.load(\"en_core_web_sm\")\n",
        "\n",
        "def translate(text):\n",
        "    translator = Translator()\n",
        "    translation = translator.translate(text, src='en', dest='hi')\n",
        "    return translation.text\n",
        "\n",
        "def hinglishTranslator(english):\n",
        "    english_nouns = [token.text for token in nlp(english) if token.pos_ == \"NOUN\"]\n",
        "    hinglish = translate(english)\n",
        "\n",
        "    for noun in english_nouns:\n",
        "        hinglish = hinglish.replace(translate(noun), noun)\n",
        "\n",
        "    return hinglish"
      ],
      "metadata": {
        "id": "3i2BqlF_Dsg6"
      },
      "execution_count": 2,
      "outputs": []
    },
    {
      "cell_type": "code",
      "source": [
        "english = input(\"Enter a sentence: \")\n",
        "hinglish = hinglishTranslator(english)\n",
        "print(\"Hinglish translation:\", hinglish)"
      ],
      "metadata": {
        "colab": {
          "base_uri": "https://localhost:8080/"
        },
        "id": "URtN7oyoFar2",
        "outputId": "b584a335-398e-481b-ec0d-0430a65d3b9f"
      },
      "execution_count": 3,
      "outputs": [
        {
          "output_type": "stream",
          "name": "stdout",
          "text": [
            "Enter a sentence: Definitely share your feedback in the comment section.\n",
            "Hinglish translation: निश्चित रूप से comment section में अपनी feedback साझा करें।\n"
          ]
        }
      ]
    }
  ]
}